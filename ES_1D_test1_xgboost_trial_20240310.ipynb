{
  "nbformat": 4,
  "nbformat_minor": 0,
  "metadata": {
    "colab": {
      "provenance": []
    },
    "kernelspec": {
      "name": "python3",
      "display_name": "Python 3"
    },
    "language_info": {
      "name": "python"
    }
  },
  "cells": [
    {
      "cell_type": "code",
      "execution_count": 185,
      "metadata": {
        "id": "AwWSp8pT8Y5S"
      },
      "outputs": [],
      "source": [
        "import numpy as np\n",
        "import xgboost as xgb\n",
        "import pandas as pd\n",
        "from sklearn.datasets import load_iris\n",
        "from sklearn.model_selection import train_test_split\n",
        "from sklearn.metrics import accuracy_score, confusion_matrix, classification_report\n",
        "\n",
        "from sklearn.datasets import load_breast_cancer\n",
        "\n",
        "import seaborn as sns\n",
        "import matplotlib.pyplot as plt\n",
        "from sklearn.metrics import confusion_matrix\n",
        "\n",
        "\n",
        "\n",
        "df = pd.read_csv('ES_1D_20240310_2.csv')\n",
        "df = df.iloc[200:]\n",
        "df = df.dropna()\n",
        "X = df.iloc[:, 6:-1]\n",
        "y = df.iloc[:, -1]\n",
        "\n",
        "\n",
        "\n",
        "\n",
        "# Split the dataset into 60% training, 20% validation, and 20% test sets\n",
        "#X_temp, X_test, y_temp, y_test = train_test_split(X, y, test_size=0.2, random_state=21)\n",
        "#X_train, X_val, y_train, y_val = train_test_split(X_temp, y_temp, test_size=0.25, random_state=21)  # 0.25 x 0.8 = 0.2\n",
        "\n",
        "# Determine split indices\n",
        "total_rows = X.shape[0]\n",
        "train_end = int(total_rows * 0.7)\n",
        "val_end = int(total_rows * 0.85)\n",
        "\n",
        "# Split the dataset into training, validation, and test sets based on calculated indices\n",
        "X_train, y_train = X.iloc[:train_end], y.iloc[:train_end]\n",
        "X_val, y_val = X.iloc[train_end:val_end], y.iloc[train_end:val_end]\n",
        "X_test, y_test = X.iloc[val_end:], y.iloc[val_end:]\n",
        "\n",
        "# Convert training, validation, and test sets to DMatrix\n",
        "dtrain = xgb.DMatrix(X_train, label=y_train)\n",
        "dval = xgb.DMatrix(X_val, label=y_val)\n",
        "dtest = xgb.DMatrix(X_test, label=y_test)\n",
        "\n",
        "\n",
        "# Number of boosting rounds\n",
        "num_boost_round = 15\n"
      ]
    },
    {
      "cell_type": "code",
      "source": [
        "y"
      ],
      "metadata": {
        "colab": {
          "base_uri": "https://localhost:8080/"
        },
        "id": "LhmBbqV0CZHm",
        "outputId": "049f7137-0a2f-47e2-f442-fcff5cd6a624"
      },
      "execution_count": 87,
      "outputs": [
        {
          "output_type": "execute_result",
          "data": {
            "text/plain": [
              "200     0.0\n",
              "201     0.0\n",
              "202     0.0\n",
              "203     1.0\n",
              "204     0.0\n",
              "       ... \n",
              "2919    0.0\n",
              "2920    0.0\n",
              "2921    1.0\n",
              "2922    0.0\n",
              "2923    0.0\n",
              "Name: Target_goingUp, Length: 2724, dtype: float64"
            ]
          },
          "metadata": {},
          "execution_count": 87
        }
      ]
    },
    {
      "cell_type": "code",
      "source": [
        "# Train the model\n",
        "params = {\n",
        "    # Your other parameters here\n",
        "    'alpha': 2,  # L1 regularization term on weights\n",
        "    'lambda': 0.1,  # L2 regularization term on weights\n",
        "    'max_depth' : 13,\n",
        "    'scale_pos_weight': 0.9,\n",
        "    'objective': 'binary:logistic',  # Use logistic regression for binary classification\n",
        "    'eval_metric': 'logloss',  # Evaluation metric for validation data\n",
        "    'gamma' : 0.5\n",
        "}\n",
        "\n",
        "bst = xgb.train(params, dtrain, num_boost_round, evals=[(dval, \"Validation\")], early_stopping_rounds=50)\n"
      ],
      "metadata": {
        "colab": {
          "base_uri": "https://localhost:8080/"
        },
        "id": "rkt5MYVW85-s",
        "outputId": "a3d7df89-920c-4e49-846e-29fbf06e4d1d"
      },
      "execution_count": 192,
      "outputs": [
        {
          "output_type": "stream",
          "name": "stdout",
          "text": [
            "[0]\tValidation-logloss:0.63833\n",
            "[1]\tValidation-logloss:0.61879\n",
            "[2]\tValidation-logloss:0.60836\n",
            "[3]\tValidation-logloss:0.61139\n",
            "[4]\tValidation-logloss:0.60427\n",
            "[5]\tValidation-logloss:0.59947\n",
            "[6]\tValidation-logloss:0.60180\n",
            "[7]\tValidation-logloss:0.60546\n",
            "[8]\tValidation-logloss:0.60702\n",
            "[9]\tValidation-logloss:0.60890\n",
            "[10]\tValidation-logloss:0.61180\n",
            "[11]\tValidation-logloss:0.60831\n",
            "[12]\tValidation-logloss:0.60990\n",
            "[13]\tValidation-logloss:0.60990\n",
            "[14]\tValidation-logloss:0.60990\n"
          ]
        }
      ]
    },
    {
      "cell_type": "code",
      "source": [
        "# Function to plot confusion matrix\n",
        "def plot_confusion_matrix(y_true, y_pred, title='Confusion Matrix'):\n",
        "    # Calculate confusion matrix\n",
        "    matrix = confusion_matrix(y_true, y_pred)\n",
        "    # Create a heatmap\n",
        "    plt.figure(figsize=(4,4 ))\n",
        "    sns.heatmap(matrix, annot=True, fmt='d', cmap='Blues', square=True)\n",
        "    plt.xlabel('Predicted label')\n",
        "    plt.ylabel('True label')\n",
        "    plt.title(title)\n",
        "    plt.show()\n",
        "\n",
        "\n",
        "# Predictions and evaluations for validation set\n",
        "y_val_pred_prob = bst.predict(dval)\n",
        "y_val_pred = y_val_pred_prob > 0.5\n",
        "# Plotting confusion matrix for validation set\n",
        "plot_confusion_matrix(y_val, y_val_pred, title='Validation Set Confusion Matrix')\n",
        "# Evaluation on the validation set\n",
        "print(\"\\n### Validation Set Evaluation ###\")\n",
        "print(\"Confusion Matrix:\\n\", confusion_matrix(y_val, y_val_pred))\n",
        "print(\"\\nClassification Report:\\n\", classification_report(y_val, y_val_pred))\n",
        "\n",
        "\n",
        "\n",
        "# Predictions and evaluations for test set\n",
        "y_test_pred_prob = bst.predict(dtest)\n",
        "y_test_pred = y_test_pred_prob > 0.5\n",
        "# Plotting confusion matrix for test set\n",
        "plot_confusion_matrix(y_test, y_test_pred, title='Test Set Confusion Matrix')\n",
        "\n",
        "# Evaluation on the test set\n",
        "print(\"\\n### Test Set Evaluation ###\")\n",
        "print(\"Confusion Matrix:\\n\", confusion_matrix(y_test, y_test_pred))\n",
        "print(\"\\nClassification Report:\\n\", classification_report(y_test, y_test_pred))\n",
        "\n"
      ],
      "metadata": {
        "colab": {
          "base_uri": "https://localhost:8080/",
          "height": 1000
        },
        "id": "bMjJPE6pAEnW",
        "outputId": "4d272630-3913-4ace-8423-97bba8b33077"
      },
      "execution_count": 193,
      "outputs": [
        {
          "output_type": "display_data",
          "data": {
            "text/plain": [
              "<Figure size 400x400 with 2 Axes>"
            ],
            "image/png": "[encoded data removed]"
          },
          "metadata": {}
        },
        {
          "output_type": "stream",
          "name": "stdout",
          "text": [
            "\n",
            "### Validation Set Evaluation ###\n",
            "Confusion Matrix:\n",
            " [[176  58]\n",
            " [ 65 110]]\n",
            "\n",
            "Classification Report:\n",
            "               precision    recall  f1-score   support\n",
            "\n",
            "         0.0       0.73      0.75      0.74       234\n",
            "         1.0       0.65      0.63      0.64       175\n",
            "\n",
            "    accuracy                           0.70       409\n",
            "   macro avg       0.69      0.69      0.69       409\n",
            "weighted avg       0.70      0.70      0.70       409\n",
            "\n"
          ]
        },
        {
          "output_type": "display_data",
          "data": {
            "text/plain": [
              "<Figure size 400x400 with 2 Axes>"
            ],
            "image/png": "[encoded data removed]"
          },
          "metadata": {}
        },
        {
          "output_type": "stream",
          "name": "stdout",
          "text": [
            "\n",
            "### Test Set Evaluation ###\n",
            "Confusion Matrix:\n",
            " [[177  45]\n",
            " [ 83 104]]\n",
            "\n",
            "Classification Report:\n",
            "               precision    recall  f1-score   support\n",
            "\n",
            "         0.0       0.68      0.80      0.73       222\n",
            "         1.0       0.70      0.56      0.62       187\n",
            "\n",
            "    accuracy                           0.69       409\n",
            "   macro avg       0.69      0.68      0.68       409\n",
            "weighted avg       0.69      0.69      0.68       409\n",
            "\n"
          ]
        }
      ]
    }
  ]
}